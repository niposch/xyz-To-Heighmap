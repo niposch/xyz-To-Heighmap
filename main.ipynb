{
 "cells": [
  {
   "cell_type": "markdown",
   "metadata": {},
   "source": [
    "# Description\n",
    "this jupyter notebook converts the data provided by geosn available here https://www.geodaten.sachsen.de/downloadbereich-digitale-hoehenmodelle-4851.html into a height map.\n",
    "The resulting height map can then be used to create a custom map for a game such as the farming simulator by giants.\n",
    "\n",
    "## Input format\n",
    "The input.zip is a zip file containing zip folders where each containing zip file contains a .xyz and a .csv file. The csv file contains metadata about the tile. The .xyz file contains height informations about each coordinate in the square.\n",
    "Be a aware that the folder ./input is used as a temporary folder, which will be deleted if it already exists. Make sure no important data is located in this folder if you intend to run this jupyter notebook.\n",
    "Depending on the size of the input data, a large amount of storage may be used. For the heightmap generation of a 8km by 8km square, roughly 6 GByte of RAM are being used by the jupyter notebook.\n",
    "\n",
    "## Output\n",
    "The data is converted into an image, which can further be resized and saved to disk. The saving is done by the Python Image Library, which supports a variety of formats.\n",
    "The output is written to ./output.png."
   ]
  },
  {
   "cell_type": "markdown",
   "metadata": {},
   "source": [
    "# Extract input data"
   ]
  },
  {
   "cell_type": "code",
   "execution_count": 99,
   "metadata": {},
   "outputs": [],
   "source": [
    "import shutil\n",
    "shutil.rmtree(\"./input\")"
   ]
  },
  {
   "cell_type": "code",
   "execution_count": 100,
   "metadata": {},
   "outputs": [],
   "source": [
    "import zipfile\n",
    "with zipfile.ZipFile(\"./input.zip\", 'r') as zip_ref:\n",
    "    zip_ref.extractall(\"./input/stage1\")"
   ]
  },
  {
   "cell_type": "code",
   "execution_count": 101,
   "metadata": {},
   "outputs": [],
   "source": [
    "import os;\n",
    "for filename in os.listdir(\"./input/stage1\"):\n",
    "    if filename.endswith(\".zip\"):\n",
    "        with zipfile.ZipFile(os.path.join(\"./input/stage1\", filename)) as zip_ref:\n",
    "            zip_ref.extractall(\"./input/stage2\")"
   ]
  },
  {
   "cell_type": "markdown",
   "metadata": {},
   "source": [
    "# process and read in data"
   ]
  },
  {
   "cell_type": "code",
   "execution_count": 102,
   "metadata": {},
   "outputs": [
    {
     "name": "stdout",
     "output_type": "stream",
     "text": [
      "[[['338000', '5666000', '340000', '5668000'], './input/stage2\\\\dgm1_33338_5666_2_sn_akt.csv'], [['338000', '5668000', '340000', '5670000'], './input/stage2\\\\dgm1_33338_5668_2_sn_akt.csv'], [['338000', '5670000', '340000', '5672000'], './input/stage2\\\\dgm1_33338_5670_2_sn_akt.csv'], [['338000', '5672000', '340000', '5674000'], './input/stage2\\\\dgm1_33338_5672_2_sn_akt.csv'], [['340000', '5666000', '342000', '5668000'], './input/stage2\\\\dgm1_33340_5666_2_sn_akt.csv'], [['340000', '5668000', '342000', '5670000'], './input/stage2\\\\dgm1_33340_5668_2_sn_akt.csv'], [['340000', '5670000', '342000', '5672000'], './input/stage2\\\\dgm1_33340_5670_2_sn_akt.csv'], [['340000', '5672000', '342000', '5674000'], './input/stage2\\\\dgm1_33340_5672_2_sn_akt.csv'], [['342000', '5666000', '344000', '5668000'], './input/stage2\\\\dgm1_33342_5666_2_sn_akt.csv'], [['342000', '5668000', '344000', '5670000'], './input/stage2\\\\dgm1_33342_5668_2_sn_akt.csv'], [['342000', '5670000', '344000', '5672000'], './input/stage2\\\\dgm1_33342_5670_2_sn_akt.csv'], [['342000', '5672000', '344000', '5674000'], './input/stage2\\\\dgm1_33342_5672_2_sn_akt.csv'], [['344000', '5666000', '346000', '5668000'], './input/stage2\\\\dgm1_33344_5666_2_sn_akt.csv'], [['344000', '5668000', '346000', '5670000'], './input/stage2\\\\dgm1_33344_5668_2_sn_akt.csv'], [['344000', '5670000', '346000', '5672000'], './input/stage2\\\\dgm1_33344_5670_2_sn_akt.csv'], [['344000', '5672000', '346000', '5674000'], './input/stage2\\\\dgm1_33344_5672_2_sn_akt.csv']]\n",
      "338000 5666000 346000 5674000 2000 2000\n",
      "8000 8000\n"
     ]
    }
   ],
   "source": [
    "import glob\n",
    "\n",
    "xStart = 0;\n",
    "yStart = 0;\n",
    "\n",
    "xEnd = 0;\n",
    "yEnd = 0;\n",
    "\n",
    "tileXDim = 0;\n",
    "tileYDim = 0;\n",
    "\n",
    "# find xStart and yStart\n",
    "\n",
    "tileDims = []\n",
    "for name in glob.glob(\"./input/stage2/*.csv\"):\n",
    "    with open(name,\"r\") as file:\n",
    "        csvreader = csv.reader(file)\n",
    "        # read all the values of the csvreader\n",
    "        values = list(csvreader)\n",
    "        tileDims.append([values[1][0].split(\";\")[1].split(\" \"), name])\n",
    "tileDims.sort()\n",
    "print(tileDims)\n",
    "xStart = int(tileDims[0][0][0])\n",
    "yStart = int(tileDims[0][0][1])\n",
    "xEnd = int(tileDims[-1][0][2])\n",
    "yEnd = int(tileDims[-1][0][3])\n",
    "tileXDim = int(tileDims[0][0][2]) - int(tileDims[0][0][0])\n",
    "tileYDim = int(tileDims[0][0][3]) - int(tileDims[0][0][1])\n",
    "\n",
    "xOffset = xStart * -1;\n",
    "yOffset = yStart * -1;\n",
    "print(xStart, yStart, xEnd, yEnd, tileXDim, tileYDim)\n",
    "print(xEnd+xOffset, yEnd + yOffset)"
   ]
  },
  {
   "cell_type": "code",
   "execution_count": 103,
   "metadata": {},
   "outputs": [
    {
     "name": "stdout",
     "output_type": "stream",
     "text": [
      "[[0. 0. 0. ... 0. 0. 0.]\n",
      " [0. 0. 0. ... 0. 0. 0.]\n",
      " [0. 0. 0. ... 0. 0. 0.]\n",
      " ...\n",
      " [0. 0. 0. ... 0. 0. 0.]\n",
      " [0. 0. 0. ... 0. 0. 0.]\n",
      " [0. 0. 0. ... 0. 0. 0.]]\n",
      "(8000, 8000)\n"
     ]
    }
   ],
   "source": [
    "import numpy as np\n",
    "\n",
    "# access via data[x][y]\n",
    "data = np.zeros(dtype=\"float32\", shape=(xEnd+xOffset, yEnd+yOffset))\n",
    "\n",
    "print(data)\n",
    "print(data.shape)"
   ]
  },
  {
   "cell_type": "code",
   "execution_count": 104,
   "metadata": {},
   "outputs": [
    {
     "name": "stdout",
     "output_type": "stream",
     "text": [
      "completed #1\n",
      "completed #2\n",
      "completed #3\n",
      "completed #4\n",
      "completed #5\n",
      "completed #6\n",
      "completed #7\n",
      "completed #8\n",
      "completed #9\n",
      "completed #10\n",
      "completed #11\n",
      "completed #12\n",
      "completed #13\n",
      "completed #14\n",
      "completed #15\n",
      "completed #16\n"
     ]
    }
   ],
   "source": [
    "# file = \"./input/stage2/dom1_33338_5666_2_sn.xyz\"\n",
    "import csv\n",
    "# read file line by line and split by whitespace\n",
    "i = 0;\n",
    "for file in glob.glob(\"./input/stage2/*.xyz\"):\n",
    "    with open(file, 'r') as f:\n",
    "        for line in f.readlines():\n",
    "            x,y,z = map(lambda el : float(el),line.split(\" \"))\n",
    "            x = round(x) + xOffset;\n",
    "            y = round(y) + yOffset;\n",
    "            data[x,y] = z;\n",
    "    i+=1;\n",
    "    print(\"completed #{0}\".format(i))\n"
   ]
  },
  {
   "cell_type": "code",
   "execution_count": 105,
   "metadata": {},
   "outputs": [
    {
     "name": "stdout",
     "output_type": "stream",
     "text": [
      "[[196.39 196.33 196.44 ... 160.7  160.69 160.65]\n",
      " [196.36 196.35 196.34 ... 160.62 160.61 160.64]\n",
      " [196.39 196.37 196.42 ... 160.58 160.6  160.59]\n",
      " ...\n",
      " [143.13 143.15 143.27 ... 161.69 161.58 161.42]\n",
      " [143.4  143.69 143.75 ... 161.9  161.71 161.61]\n",
      " [143.97 144.11 144.19 ... 161.92 161.87 161.77]]\n"
     ]
    }
   ],
   "source": [
    "print(data)"
   ]
  },
  {
   "cell_type": "markdown",
   "metadata": {},
   "source": [
    "# Output data"
   ]
  },
  {
   "cell_type": "code",
   "execution_count": 109,
   "metadata": {},
   "outputs": [
    {
     "name": "stdout",
     "output_type": "stream",
     "text": [
      "[[158 158 158 ...  74  74  74]\n",
      " [158 158 158 ...  74  74  74]\n",
      " [158 158 158 ...  74  74  74]\n",
      " ...\n",
      " [ 33  33  33 ...  76  76  76]\n",
      " [ 33  34  34 ...  77  77  76]\n",
      " [ 35  35  35 ...  77  77  77]]\n",
      "255\n",
      "Heightscale: 108.47000122070312\n"
     ]
    }
   ],
   "source": [
    "norm_data = (255*(data - np.min(data))/np.ptp(data)).astype(int) ;\n",
    "print(norm_data)\n",
    "print(np.max(norm_data))\n",
    "from PIL import Image\n",
    "# convert values to 0 - 255 int8 format\n",
    "formatted = (norm_data).astype('uint8')\n",
    "img = Image.fromarray(formatted).rotate(90)\n",
    "img = img.resize(size=(4097,4097)) # uncomment to resize the output\n",
    "img.save(\"./output.tiff\", format=\"TIFF\")\n",
    "print(\"Heightscale: {0}\".format(np.max(data)-np.min(data)))"
   ]
  },
  {
   "cell_type": "code",
   "execution_count": null,
   "metadata": {},
   "outputs": [],
   "source": []
  }
 ],
 "metadata": {
  "interpreter": {
   "hash": "b3ba2566441a7c06988d0923437866b63cedc61552a5af99d1f4fb67d367b25f"
  },
  "kernelspec": {
   "display_name": "Python 3.9.7 64-bit ('base': conda)",
   "language": "python",
   "name": "python3"
  },
  "language_info": {
   "codemirror_mode": {
    "name": "ipython",
    "version": 3
   },
   "file_extension": ".py",
   "mimetype": "text/x-python",
   "name": "python",
   "nbconvert_exporter": "python",
   "pygments_lexer": "ipython3",
   "version": "3.9.7"
  },
  "orig_nbformat": 4
 },
 "nbformat": 4,
 "nbformat_minor": 2
}
